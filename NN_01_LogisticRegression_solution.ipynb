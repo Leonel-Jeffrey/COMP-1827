{
  "nbformat": 4,
  "nbformat_minor": 0,
  "metadata": {
    "kernelspec": {
      "display_name": "Python 3",
      "language": "python",
      "name": "python3"
    },
    "language_info": {
      "codemirror_mode": {
        "name": "ipython",
        "version": 3
      },
      "file_extension": ".py",
      "mimetype": "text/x-python",
      "name": "python",
      "nbconvert_exporter": "python",
      "pygments_lexer": "ipython3",
      "version": "3.8.5"
    },
    "colab": {
      "name": "NN_01_LogisticRegression_solution.ipynb",
      "provenance": [],
      "include_colab_link": true
    }
  },
  "cells": [
    {
      "cell_type": "markdown",
      "metadata": {
        "id": "view-in-github",
        "colab_type": "text"
      },
      "source": [
        "<a href=\"https://colab.research.google.com/github/Leonel-Jeffrey/COMP-1827/blob/main/NN_01_LogisticRegression_solution.ipynb\" target=\"_parent\"><img src=\"https://colab.research.google.com/assets/colab-badge.svg\" alt=\"Open In Colab\"/></a>"
      ]
    },
    {
      "cell_type": "markdown",
      "metadata": {
        "id": "oJswxyU7zt1N"
      },
      "source": [
        "# Logistic Regression with Keras\n",
        "\n",
        "Welcome to your (possibly) first Machine Learning tutorial.\n",
        "\n",
        "We will be using the Logistic Regression (a one-layer Neural Network) to recognise hand written digits in images.\n",
        "\n",
        "The MNIST database of handwritten digits has been a benchmark in Computer Vision for many years. Although it is considered \"solved\" by many today, new algorithms are still tested on it first, and it still serves as a good learning tool.\n",
        "\n",
        "More information on MNIST including results from prominent researchers in the field who developed a variety of models to improve classification accuracy:\n",
        "\n",
        "> http://yann.lecun.com/exdb/mnist/\n",
        "\n",
        "Quick intro to Jupyter controls:\n",
        "\n",
        "> Select a cell and Ctrl+Enter - this will execute the selected cell. For more shortcuts, go to Help -> Keyboard Shortcuts\n",
        "\n",
        "> Go through each cell and execute it to see the result\n",
        "\n",
        "Useful links:\n",
        "\n",
        "> https://en.wikipedia.org/wiki/Logistic_regression"
      ]
    },
    {
      "cell_type": "markdown",
      "metadata": {
        "id": "09Vsr4o8zt1W"
      },
      "source": [
        "## Import useful code packages"
      ]
    },
    {
      "cell_type": "code",
      "metadata": {
        "id": "otAudMt4zt1X"
      },
      "source": [
        "# Standard scientific Python imports\n",
        "import matplotlib.pyplot as plt\n",
        "import numpy as np\n",
        "\n",
        "# Import Keras model layers\n",
        "import keras\n",
        "from keras.models import Sequential \n",
        "from keras.layers import Dense, Activation"
      ],
      "execution_count": null,
      "outputs": []
    },
    {
      "cell_type": "markdown",
      "metadata": {
        "id": "BK8vSYT-zt1a"
      },
      "source": [
        "## Load the MNIST Dataset"
      ]
    },
    {
      "cell_type": "code",
      "metadata": {
        "colab": {
          "base_uri": "https://localhost:8080/"
        },
        "id": "-xmkM1Ogzt1a",
        "outputId": "a82c8c21-c5c4-4a66-c80c-90c02b11527e"
      },
      "source": [
        "# Import Keras model layers\n",
        "import keras\n",
        "import numpy as np\n",
        "import tensorflow.keras as tk\n",
        "from keras.models import Sequential \n",
        "from keras.layers import Dense, Activation\n",
        "\n",
        "mnist = tk.datasets.mnist\n",
        "# download and load the MNIST dataset - the file will be downloaded only once and saved in the Anaconda environment\n",
        "(X_train_raw, y_train_raw), (X_test_raw, y_test_raw) = mnist.load_data()\n",
        "\n",
        "# Print shapes and bounds\n",
        "print('Train set:')\n",
        "print('Sizes:', X_train_raw.shape, y_train_raw.shape)\n",
        "\n",
        "print('Test set:')\n",
        "print('Sizes:', X_test_raw.shape, y_test_raw.shape)\n",
        "\n",
        "print('Image values (min to max):', np.min(X_train_raw), 'to', np.max(X_train_raw))\n",
        "print('Label values (min to max):', np.min(y_train_raw), 'to', np.max(y_train_raw))"
      ],
      "execution_count": null,
      "outputs": [
        {
          "output_type": "stream",
          "name": "stdout",
          "text": [
            "Train set:\n",
            "Sizes: (60000, 28, 28) (60000,)\n",
            "Test set:\n",
            "Sizes: (10000, 28, 28) (10000,)\n",
            "Image values (min to max): 0 to 255\n",
            "Label values (min to max): 0 to 9\n"
          ]
        }
      ]
    },
    {
      "cell_type": "markdown",
      "metadata": {
        "id": "yVzv4oyfzt1b"
      },
      "source": [
        "## Normalisation\n",
        "\n",
        "The data was loaded, but the pixel values are not suitable for learning with a Neural Network. Also, labels have to be in one-hot format.\n",
        "\n",
        "* Divide raw image data in both training and test set by the maximum value\n",
        "\n",
        "* Flatten the images into 1D vectors. Use NumPy's reshape function:\n",
        "    https://docs.scipy.org/doc/numpy/reference/generated/numpy.reshape.html\n",
        "\n",
        "* Convert the raw numeric labels (0..9) to one-hot vectors - Keras has a builtin function to do just that:\n",
        "    https://www.tensorflow.org/api_docs/python/tf/keras/utils/to_categorical\n",
        "    "
      ]
    },
    {
      "cell_type": "code",
      "metadata": {
        "colab": {
          "base_uri": "https://localhost:8080/"
        },
        "id": "Emib2p4czt1d",
        "outputId": "ec79023d-96b5-4f2f-a3f2-e8f880e1bfac"
      },
      "source": [
        "# Import Keras model layers\n",
        "import keras\n",
        "import numpy as np\n",
        "import tensorflow as tf\n",
        "import tensorflow.keras as tk\n",
        "from keras.models import Sequential \n",
        "from keras.layers import Dense, Activation\n",
        "from tensorflow.keras.utils import to_categorical\n",
        "\n",
        "# normalise raw image data by dividing by the maximum value\n",
        "X_train = X_train_raw / 255 # normalise X_train\n",
        "X_test = X_test_raw / 255 # normalise X_test\n",
        "\n",
        "# flatten normalised data into 1D vectors\n",
        "X_train = X_train.reshape(X_train.shape[0], -1)\n",
        "X_test = X_test.reshape(X_test.shape[0], -1)\n",
        "\n",
        "# convert raw labels to one-hot vectors\n",
        "y_train = tf.keras.utils.to_categorical(y_train_raw, num_classes=10) # convert y_train\n",
        "y_test = tf.keras.utils.to_categorical(y_test_raw, num_classes=10) # convert y_test\n",
        "\n",
        "# shuffle training samples (same permutation for X and Y so that labels still correspond)\n",
        "np.random.seed(42) # fix random seed so that everyone has the same dataset permutation\n",
        "permutation = np.random.permutation(X_train.shape[0])\n",
        "X_train = X_train[permutation]\n",
        "y_train = y_train[permutation]\n",
        "\n",
        "# Print shapes and bounds\n",
        "print('### Train set:')\n",
        "print('Sizes:', X_train.shape, y_train.shape)\n",
        "print('Image values (min to max):', np.min(X_train), 'to', np.max(X_train))\n",
        "print('Label values (min to max):', np.min(y_train), 'to', np.max(y_train))\n",
        "print('Total samples per class:', np.sum(y_train, axis=0))\n",
        "\n",
        "print('### Test set:')\n",
        "print('Sizes:', X_test.shape, y_test.shape)\n",
        "print('Image values (min to max):', np.min(X_test), 'to', np.max(X_test))\n",
        "print('Label values (min to max):', np.min(y_test), 'to', np.max(y_test))\n",
        "print('Total samples per class:', np.sum(y_test, axis=0))"
      ],
      "execution_count": null,
      "outputs": [
        {
          "output_type": "stream",
          "name": "stdout",
          "text": [
            "### Train set:\n",
            "Sizes: (60000, 784) (60000, 10)\n",
            "Image values (min to max): 0.0 to 1.0\n",
            "Label values (min to max): 0.0 to 1.0\n",
            "Total samples per class: [5923. 6742. 5958. 6131. 5842. 5421. 5918. 6265. 5851. 5949.]\n",
            "### Test set:\n",
            "Sizes: (10000, 784) (10000, 10)\n",
            "Image values (min to max): 0.0 to 1.0\n",
            "Label values (min to max): 0.0 to 1.0\n",
            "Total samples per class: [ 980. 1135. 1032. 1010.  982.  892.  958. 1028.  974. 1009.]\n"
          ]
        }
      ]
    },
    {
      "cell_type": "markdown",
      "metadata": {
        "id": "Bb9iQm66zt1f"
      },
      "source": [
        "**Expected output:**\n",
        "\n",
        "\\### Train set:<br>\n",
        "Sizes: (60000, 784) (60000, 10)<br>\n",
        "Image values (min to max): 0.0 to 1.0<br>\n",
        "Label values (min to max): 0.0 to 1.0<br>\n",
        "Total samples per class: [5923. 6742. 5958. 6131. 5842. 5421. 5918. 6265. 5851. 5949.]<br>\n",
        "\\### Test set:<br>\n",
        "Sizes: (10000, 784) (10000, 10)<br>\n",
        "Image values (min to max): 0.0 to 1.0<br>\n",
        "Label values (min to max): 0.0 to 1.0<br>\n",
        "Total samples per class: [ 980. 1135. 1032. 1010.  982.  892.  958. 1028.  974. 1009.]<br>"
      ]
    },
    {
      "cell_type": "markdown",
      "metadata": {
        "id": "BvdcNQgSzt1h"
      },
      "source": [
        "## Plot some samples\n",
        "\n",
        "Change the index to see other samples"
      ]
    },
    {
      "cell_type": "code",
      "metadata": {
        "colab": {
          "base_uri": "https://localhost:8080/",
          "height": 545
        },
        "id": "ByhNtMk-zt1j",
        "outputId": "eb1e2df7-e046-4dfa-e13f-f7f6cd1d54b3"
      },
      "source": [
        "import numpy as np\n",
        "import matplotlib.pyplot as plt\n",
        "\n",
        "\n",
        "# Just a function to display a sample\n",
        "def display_digit(index, xs, ys, title):\n",
        "    label = np.argmax(ys[index]) # argmax used to convert from one-hot back to numeric label\n",
        "    image = xs[index].reshape([28,28]) # make sure that the data is in 2D shape\n",
        "    plt.title(title+': Index: %d  Label: %d' % (index, label))\n",
        "    plt.imshow(image, cmap=plt.get_cmap('gray'))\n",
        "    plt.show()\n",
        "\n",
        "display_digit(index=0, xs=X_train, ys=y_train, title='Train sample') # display the first training example\n",
        "display_digit(index=0, xs=X_test,  ys=y_test,  title='Test sample')  # display the first test example"
      ],
      "execution_count": null,
      "outputs": [
        {
          "output_type": "display_data",
          "data": {
            "image/png": "[encoded data removed]",
            "text/plain": [
              "<Figure size 432x288 with 1 Axes>"
            ]
          },
          "metadata": {
            "needs_background": "light"
          }
        },
        {
          "output_type": "display_data",
          "data": {
            "image/png": "[encoded data removed]",
            "text/plain": [
              "<Figure size 432x288 with 1 Axes>"
            ]
          },
          "metadata": {
            "needs_background": "light"
          }
        }
      ]
    },
    {
      "cell_type": "markdown",
      "metadata": {
        "id": "jP7XiyRDzt1k"
      },
      "source": [
        "That's right, the classes seem very easy to separate ! Let's prepare to train our algorithm."
      ]
    },
    {
      "cell_type": "markdown",
      "metadata": {
        "id": "ZokxaT-Pzt1l"
      },
      "source": [
        "## Define the model\n",
        "\n",
        "We will build a neural network with a single layer:\n",
        "\n",
        "* Use Kera's Dense to create a Fully Connected layer, use 'softmax' activation\n",
        "\n",
        "![](./images/lr_diag.png \"Logistic Regression\")"
      ]
    },
    {
      "cell_type": "code",
      "metadata": {
        "colab": {
          "base_uri": "https://localhost:8080/"
        },
        "id": "A2MW5v43zt1l",
        "outputId": "851a9eff-5337-48b1-a85a-b8f478b466bd"
      },
      "source": [
        "\n",
        "import tensorflow as tf\n",
        "import tensorflow.keras as tk\n",
        "import numpy as np\n",
        "from tensorflow import keras\n",
        "from keras.models import Sequential \n",
        "from keras.layers import Dense, Activation\n",
        "from tensorflow.keras.optimizers import SGD\n",
        "\n",
        "\n",
        "# get input and output sizes\n",
        "input_dim = X_train.shape[1] # 784\n",
        "output_dim = y_train.shape[1] # 10\n",
        "\n",
        "# Create Sequential model - this allows you to add layers one after the other to build your model\n",
        "model = Sequential()\n",
        "model.add(Dense(output_dim, input_dim=input_dim, activation='softmax'))\n",
        "\n",
        "# Compile model\n",
        "optim = tf.keras.optimizers.SGD(lr=0.01)\n",
        "model.compile(optimizer=optim, loss='categorical_crossentropy', metrics=['accuracy'])"
      ],
      "execution_count": null,
      "outputs": [
        {
          "output_type": "stream",
          "name": "stderr",
          "text": [
            "/usr/local/lib/python3.7/dist-packages/keras/optimizer_v2/optimizer_v2.py:356: UserWarning: The `lr` argument is deprecated, use `learning_rate` instead.\n",
            "  \"The `lr` argument is deprecated, use `learning_rate` instead.\")\n"
          ]
        }
      ]
    },
    {
      "cell_type": "markdown",
      "metadata": {
        "id": "-8NL2un_zt1m"
      },
      "source": [
        "## Train the model\n",
        "\n",
        "> **Note**: Be sure to rerun the previous cell before you train, otherwise previous weights will be kept - i.e. you would just train your model further."
      ]
    },
    {
      "cell_type": "code",
      "metadata": {
        "colab": {
          "base_uri": "https://localhost:8080/"
        },
        "id": "U1tR4PXezt1m",
        "outputId": "5ea0b565-28fb-4f16-df42-91ab8b75c717"
      },
      "source": [
        "# settings\n",
        "batch_size = 32\n",
        "nb_epoch = 15\n",
        "\n",
        "# train the model and save training history\n",
        "history = model.fit(X_train, y_train,\n",
        "          batch_size=batch_size, \n",
        "          epochs=nb_epoch, \n",
        "          verbose=1, \n",
        "          validation_split=1./6., # set 10K samples (out of 60K) aside for validation\n",
        ")\n",
        "\n",
        "# save model weights to file\n",
        "model.save_weights('mnist_logistic_regression.h5')"
      ],
      "execution_count": null,
      "outputs": [
        {
          "output_type": "stream",
          "name": "stdout",
          "text": [
            "Epoch 1/15\n",
            "1563/1563 [==============================] - 4s 2ms/step - loss: 0.8201 - accuracy: 0.8073 - val_loss: 0.5310 - val_accuracy: 0.8640\n",
            "Epoch 2/15\n",
            "1563/1563 [==============================] - 3s 2ms/step - loss: 0.4786 - accuracy: 0.8765 - val_loss: 0.4419 - val_accuracy: 0.8793\n",
            "Epoch 3/15\n",
            "1563/1563 [==============================] - 3s 2ms/step - loss: 0.4199 - accuracy: 0.8873 - val_loss: 0.4056 - val_accuracy: 0.8872\n",
            "Epoch 4/15\n",
            "1563/1563 [==============================] - 3s 2ms/step - loss: 0.3908 - accuracy: 0.8939 - val_loss: 0.3835 - val_accuracy: 0.8924\n",
            "Epoch 5/15\n",
            "1563/1563 [==============================] - 3s 2ms/step - loss: 0.3720 - accuracy: 0.8982 - val_loss: 0.3696 - val_accuracy: 0.8956\n",
            "Epoch 6/15\n",
            "1563/1563 [==============================] - 3s 2ms/step - loss: 0.3591 - accuracy: 0.9012 - val_loss: 0.3587 - val_accuracy: 0.8996\n",
            "Epoch 7/15\n",
            "1563/1563 [==============================] - 3s 2ms/step - loss: 0.3491 - accuracy: 0.9036 - val_loss: 0.3514 - val_accuracy: 0.9003\n",
            "Epoch 8/15\n",
            "1563/1563 [==============================] - 5s 3ms/step - loss: 0.3413 - accuracy: 0.9052 - val_loss: 0.3438 - val_accuracy: 0.9028\n",
            "Epoch 9/15\n",
            "1563/1563 [==============================] - 4s 3ms/step - loss: 0.3347 - accuracy: 0.9069 - val_loss: 0.3384 - val_accuracy: 0.9039\n",
            "Epoch 10/15\n",
            "1563/1563 [==============================] - 3s 2ms/step - loss: 0.3294 - accuracy: 0.9083 - val_loss: 0.3337 - val_accuracy: 0.9040\n",
            "Epoch 11/15\n",
            "1563/1563 [==============================] - 3s 2ms/step - loss: 0.3247 - accuracy: 0.9096 - val_loss: 0.3295 - val_accuracy: 0.9065\n",
            "Epoch 12/15\n",
            "1563/1563 [==============================] - 2s 2ms/step - loss: 0.3206 - accuracy: 0.9108 - val_loss: 0.3267 - val_accuracy: 0.9068\n",
            "Epoch 13/15\n",
            "1563/1563 [==============================] - 2s 1ms/step - loss: 0.3171 - accuracy: 0.9117 - val_loss: 0.3230 - val_accuracy: 0.9092\n",
            "Epoch 14/15\n",
            "1563/1563 [==============================] - 3s 2ms/step - loss: 0.3139 - accuracy: 0.9130 - val_loss: 0.3207 - val_accuracy: 0.9083\n",
            "Epoch 15/15\n",
            "1563/1563 [==============================] - 2s 2ms/step - loss: 0.3110 - accuracy: 0.9137 - val_loss: 0.3180 - val_accuracy: 0.9102\n"
          ]
        }
      ]
    },
    {
      "cell_type": "markdown",
      "metadata": {
        "id": "lq5NErrozt1n"
      },
      "source": [
        "## Plot training behaviour"
      ]
    },
    {
      "cell_type": "code",
      "metadata": {
        "colab": {
          "base_uri": "https://localhost:8080/",
          "height": 334
        },
        "id": "r4xkH1sWzt1n",
        "outputId": "317dc02d-a287-451d-ed91-432d9d19de6b"
      },
      "source": [
        "# summarize history for loss and accuracy\n",
        "\n",
        "fig, (ax1, ax2) = plt.subplots(1, 2, figsize=(20,5))\n",
        "\n",
        "ax1.plot(history.history['loss'])\n",
        "ax1.plot(history.history['val_loss'])\n",
        "ax1.set_ylabel('loss')\n",
        "ax1.set_xlabel('epoch')\n",
        "ax1.legend(['training', 'validation'], loc='upper right')\n",
        "ax1.yaxis.grid()\n",
        "\n",
        "ax2.plot(history.history['accuracy'])\n",
        "ax2.plot(history.history['val_accuracy'])\n",
        "ax2.set_ylabel('accuracy')\n",
        "ax2.set_xlabel('epoch')\n",
        "ax2.legend(['training', 'validation'], loc='upper left')\n",
        "ax2.yaxis.grid()\n",
        "\n",
        "plt.show()"
      ],
      "execution_count": null,
      "outputs": [
        {
          "output_type": "display_data",
          "data": {
            "image/png": "[encoded data removed]",
            "text/plain": [
              "<Figure size 1440x360 with 2 Axes>"
            ]
          },
          "metadata": {
            "needs_background": "light"
          }
        }
      ]
    },
    {
      "cell_type": "markdown",
      "metadata": {
        "id": "mOs8WqbEzt1o"
      },
      "source": [
        "## Evaluate the model on the test set"
      ]
    },
    {
      "cell_type": "code",
      "metadata": {
        "colab": {
          "base_uri": "https://localhost:8080/"
        },
        "id": "lH1kKDnpzt1o",
        "outputId": "439857f0-4910-437a-c9ad-d3a382f884e8"
      },
      "source": [
        "# load model weights from file\n",
        "model.load_weights('mnist_logistic_regression.h5')\n",
        "\n",
        "score = model.evaluate(X_test, y_test, verbose=0)\n",
        "print('Test loss:', score[0]) \n",
        "print('Test accuracy:', score[1])"
      ],
      "execution_count": null,
      "outputs": [
        {
          "output_type": "stream",
          "name": "stdout",
          "text": [
            "Test loss: 0.3003654181957245\n",
            "Test accuracy: 0.916700005531311\n"
          ]
        }
      ]
    },
    {
      "cell_type": "markdown",
      "metadata": {
        "id": "aWHLenaJzt1p"
      },
      "source": [
        "You should have obtained a value of around 0.91-0.92 (which means 91%-92% test accuracy). Congratulations !"
      ]
    },
    {
      "cell_type": "markdown",
      "metadata": {
        "id": "cKzwA_Myzt1p"
      },
      "source": [
        "## Try the following\n",
        "\n",
        "1) Change the learning rate (e.g. 0.0001, 0.001, 0.01, 0.1) and observe the training curves\n",
        "\n",
        "2) Add Momentum to the SGD optimizer (https://keras.io/optimizers/) and observe the accuracy\n",
        "\n",
        "3) Change the batch size (e.g. 8, 16, 32, 64, 128, 256) and see what happens (time per epoch, accuracy, etc)\n",
        "\n",
        "4) Try a different optimizer altogether (e.g. Adam) (https://keras.io/optimizers/)\n",
        "\n",
        "5) Try adding shuffling during training (https://keras.io/models/sequential/)\n",
        "\n",
        "6) Share your best results !"
      ]
    }
  ]
}