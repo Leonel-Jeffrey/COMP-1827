{
  "nbformat": 4,
  "nbformat_minor": 0,
  "metadata": {
    "kernelspec": {
      "display_name": "Python 3",
      "language": "python",
      "name": "python3"
    },
    "language_info": {
      "codemirror_mode": {
        "name": "ipython",
        "version": 3
      },
      "file_extension": ".py",
      "mimetype": "text/x-python",
      "name": "python",
      "nbconvert_exporter": "python",
      "pygments_lexer": "ipython3",
      "version": "3.6.9"
    },
    "colab": {
      "name": "NN_03_MultiLayerPerceptron_Soltn.ipynb",
      "provenance": [],
      "include_colab_link": true
    },
    "accelerator": "GPU"
  },
  "cells": [
    {
      "cell_type": "markdown",
      "metadata": {
        "id": "view-in-github",
        "colab_type": "text"
      },
      "source": [
        "<a href=\"https://colab.research.google.com/github/Leonel-Jeffrey/COMP-1827/blob/main/NN_03_MultiLayerPerceptron_Soltn.ipynb\" target=\"_parent\"><img src=\"https://colab.research.google.com/assets/colab-badge.svg\" alt=\"Open In Colab\"/></a>"
      ]
    },
    {
      "cell_type": "markdown",
      "metadata": {
        "id": "2GrrIFC8P6bw"
      },
      "source": [
        "# Multi Layer Perceptron with Keras\n",
        "\n",
        "Welcome back !\n",
        "\n",
        "We will now be using a MLP (a Neural Network that also contains at least a hidden layer) to recognise hand written digits in images.\n",
        "\n",
        "You can use code from the previous tutorial to complete this one.\n",
        "\n",
        "**Note: it is recommended that you first try with the initial parameters that were proposed, and then add the optimisations that you've tried at the end of the previous tutorial in order to observe their effects.**\n",
        "\n",
        "Useful links:\n",
        "\n",
        "> https://en.wikipedia.org/wiki/Multilayer_perceptron"
      ]
    },
    {
      "cell_type": "markdown",
      "metadata": {
        "id": "d5QsPn3XP6b2"
      },
      "source": [
        "## Import useful code packages"
      ]
    },
    {
      "cell_type": "code",
      "metadata": {
        "id": "pR_V2Ae7P6b2"
      },
      "source": [
        "# Standard scientific Python imports\n",
        "import matplotlib.pyplot as plt\n",
        "import numpy as np\n",
        "import tensorflow as tf\n",
        "# Import Keras model layers\n",
        "import keras\n",
        "from keras import utils as np_utils\n",
        "from keras.models import Sequential \n",
        "from keras.layers import Dense, Activation\n",
        "from keras.datasets import mnist"
      ],
      "execution_count": null,
      "outputs": []
    },
    {
      "cell_type": "markdown",
      "metadata": {
        "id": "qRSPUCYvP6b4"
      },
      "source": [
        "## Load the MNIST Dataset"
      ]
    },
    {
      "cell_type": "code",
      "metadata": {
        "id": "GJSeKVSoP6b4",
        "colab": {
          "base_uri": "https://localhost:8080/"
        },
        "outputId": "2da177db-2925-4dfb-e6bf-b7d80658abb7"
      },
      "source": [
        "import tensorflow as tf\n",
        "import numpy as np\n",
        "import tensorflow.keras as tk \n",
        "from keras.datasets import mnist\n",
        "\n",
        "mnist = tk.datasets.mnist\n",
        "\n",
        "\n",
        "\n",
        "# download and load the MNIST dataset - the file will be downloaded only once and saved in the Anaconda environment\n",
        "(X_train_raw, y_train_raw), (X_test_raw, y_test_raw) = mnist.load_data()\n",
        "\n",
        "# Print shapes and bounds\n",
        "print('Train set:')\n",
        "print('Sizes:', X_train_raw.shape, y_train_raw.shape)\n",
        "\n",
        "print('Test set:')\n",
        "print('Sizes:', X_test_raw.shape, y_test_raw.shape)\n",
        "\n",
        "print('Image values (min to max):', np.min(X_train_raw), 'to', np.max(X_train_raw))\n",
        "print('Label values (min to max):', np.min(y_train_raw), 'to', np.max(y_train_raw))"
      ],
      "execution_count": null,
      "outputs": [
        {
          "output_type": "stream",
          "name": "stdout",
          "text": [
            "Downloading data from https://storage.googleapis.com/tensorflow/tf-keras-datasets/mnist.npz\n",
            "11493376/11490434 [==============================] - 0s 0us/step\n",
            "11501568/11490434 [==============================] - 0s 0us/step\n",
            "Train set:\n",
            "Sizes: (60000, 28, 28) (60000,)\n",
            "Test set:\n",
            "Sizes: (10000, 28, 28) (10000,)\n",
            "Image values (min to max): 0 to 255\n",
            "Label values (min to max): 0 to 9\n"
          ]
        }
      ]
    },
    {
      "cell_type": "markdown",
      "metadata": {
        "id": "VHM6ErEgP6b5"
      },
      "source": [
        "## Normalisation\n",
        "\n",
        "The data was loaded, but the pixel values are not suitable for learning with a Neural Network. Also, labels have to be in one-hot format.\n",
        "\n",
        "* Divide raw image data in both training and test set by the maximum value\n",
        "\n",
        "* Flatten the images into 1D vectors. Use NumPy's reshape function:\n",
        "    https://docs.scipy.org/doc/numpy/reference/generated/numpy.reshape.html\n",
        "\n",
        "* Convert the raw numeric labels (0..9) to one-hot vectors - Keras has a builtin function to do just that:\n",
        "    https://www.tensorflow.org/api_docs/python/tf/keras/utils/to_categorical\n",
        "    "
      ]
    },
    {
      "cell_type": "code",
      "metadata": {
        "id": "WmHM2JN8P6b6",
        "colab": {
          "base_uri": "https://localhost:8080/"
        },
        "outputId": "70608840-bff4-4d63-918d-4fb05a7f19aa"
      },
      "source": [
        "# Import Keras model layers\n",
        "import keras\n",
        "import numpy as np\n",
        "import tensorflow as tf\n",
        "import tensorflow.keras as tk\n",
        "from keras.models import Sequential \n",
        "from keras.layers import Dense, Activation\n",
        "from tensorflow.keras.utils import to_categorical\n",
        "\n",
        "# normalise raw image data by dividing by the maximum value\n",
        "X_train = X_train_raw / 255 # normalise X_train\n",
        "X_test = X_test_raw / 255 # normalise X_test\n",
        "\n",
        "# flatten normalised data into 1D vectors\n",
        "X_train = X_train.reshape(X_train.shape[0], -1)\n",
        "X_test = X_test.reshape(X_test.shape[0], -1)\n",
        "\n",
        "# convert raw labels to one-hot vectors\n",
        "y_train = tf.keras.utils.to_categorical(y_train_raw, num_classes=10) # convert y_train\n",
        "y_test = tf.keras.utils.to_categorical(y_test_raw, num_classes=10) # convert y_test\n",
        "\n",
        "# shuffle training samples (same permutation for X and Y so that labels still correspond)\n",
        "np.random.seed(42) # fix random seed so that everyone has the same dataset permutation\n",
        "permutation = np.random.permutation(X_train.shape[0])\n",
        "X_train = X_train[permutation]\n",
        "y_train = y_train[permutation]\n",
        "\n",
        "# Print shapes and bounds\n",
        "print('### Train set:')\n",
        "print('Sizes:', X_train.shape, y_train.shape)\n",
        "print('Image values (min to max):', np.min(X_train), 'to', np.max(X_train))\n",
        "print('Label values (min to max):', np.min(y_train), 'to', np.max(y_train))\n",
        "print('Total samples per class:', np.sum(y_train, axis=0))\n",
        "\n",
        "print('### Test set:')\n",
        "print('Sizes:', X_test.shape, y_test.shape)\n",
        "print('Image values (min to max):', np.min(X_test), 'to', np.max(X_test))\n",
        "print('Label values (min to max):', np.min(y_test), 'to', np.max(y_test))\n",
        "print('Total samples per class:', np.sum(y_test, axis=0))"
      ],
      "execution_count": null,
      "outputs": [
        {
          "output_type": "stream",
          "name": "stdout",
          "text": [
            "### Train set:\n",
            "Sizes: (60000, 784) (60000, 10)\n",
            "Image values (min to max): 0.0 to 1.0\n",
            "Label values (min to max): 0.0 to 1.0\n",
            "Total samples per class: [5923. 6742. 5958. 6131. 5842. 5421. 5918. 6265. 5851. 5949.]\n",
            "### Test set:\n",
            "Sizes: (10000, 784) (10000, 10)\n",
            "Image values (min to max): 0.0 to 1.0\n",
            "Label values (min to max): 0.0 to 1.0\n",
            "Total samples per class: [ 980. 1135. 1032. 1010.  982.  892.  958. 1028.  974. 1009.]\n"
          ]
        }
      ]
    },
    {
      "cell_type": "markdown",
      "metadata": {
        "id": "Bcdf0Po0P6b6"
      },
      "source": [
        "**Expected output:**\n",
        "\n",
        "\\### Train set:<br>\n",
        "Sizes: (60000, 784) (60000, 10)<br>\n",
        "Image values (min to max): 0.0 to 1.0<br>\n",
        "Label values (min to max): 0.0 to 1.0<br>\n",
        "Total samples per class: [5923. 6742. 5958. 6131. 5842. 5421. 5918. 6265. 5851. 5949.]<br>\n",
        "\\### Test set:<br>\n",
        "Sizes: (10000, 784) (10000, 10)<br>\n",
        "Image values (min to max): 0.0 to 1.0<br>\n",
        "Label values (min to max): 0.0 to 1.0<br>\n",
        "Total samples per class: [ 980. 1135. 1032. 1010.  982.  892.  958. 1028.  974. 1009.]<br>"
      ]
    },
    {
      "cell_type": "markdown",
      "metadata": {
        "id": "D5KNpsqRP6b7"
      },
      "source": [
        "## Plot some samples\n",
        "\n",
        "Change the index to see other samples"
      ]
    },
    {
      "cell_type": "code",
      "metadata": {
        "id": "rxpF5NmqP6b8",
        "colab": {
          "base_uri": "https://localhost:8080/",
          "height": 545
        },
        "outputId": "2e855d98-894e-44ef-868f-4ed9f351124e"
      },
      "source": [
        "import matplotlib.pyplot as plt\n",
        "import numpy as np\n",
        "\n",
        "\n",
        "# Just a function to display a sample\n",
        "def display_digit(index, xs, ys, title):\n",
        "    label = np.argmax(ys[index]) # argmax used to convert from one-hot back to numeric label\n",
        "    image = xs[index].reshape([28,28]) # make sure that the data is in 2D shape\n",
        "    plt.title(title+': Index: %d  Label: %d' % (index, label))\n",
        "    plt.imshow(image, cmap=plt.get_cmap('gray'))\n",
        "    plt.show()\n",
        "\n",
        "display_digit(index=0, xs=X_train, ys=y_train, title='Train sample') # display the first training example\n",
        "display_digit(index=0, xs=X_test,  ys=y_test,  title='Test sample')  # display the first test example"
      ],
      "execution_count": null,
      "outputs": [
        {
          "output_type": "display_data",
          "data": {
            "image/png": "[encoded data removed]",
            "text/plain": [
              "<Figure size 432x288 with 1 Axes>"
            ]
          },
          "metadata": {
            "needs_background": "light"
          }
        },
        {
          "output_type": "display_data",
          "data": {
            "image/png": "[encoded data removed]",
            "text/plain": [
              "<Figure size 432x288 with 1 Axes>"
            ]
          },
          "metadata": {
            "needs_background": "light"
          }
        }
      ]
    },
    {
      "cell_type": "markdown",
      "metadata": {
        "id": "DTGaMEV8P6b8"
      },
      "source": [
        "That's right, the classes seem very easy to separate ! Let's prepare to train our algorithm."
      ]
    },
    {
      "cell_type": "markdown",
      "metadata": {
        "id": "_25ZXu1RP6b9"
      },
      "source": [
        "## Define the model\n",
        "\n",
        "We will build a neural network with a single layer:\n",
        "\n",
        "* Use Kera's Dense to create two Fully Connected layers:\n",
        "    * use 'sigmoid' activation for the first one\n",
        "    * and 'softmax' for the second\n",
        "\n",
        "![](./images/mlp_diag.png \"Multi Layer Perceptron\")"
      ]
    },
    {
      "cell_type": "code",
      "metadata": {
        "id": "bc44jGcmP6b9",
        "colab": {
          "base_uri": "https://localhost:8080/"
        },
        "outputId": "d26dd144-b94c-425a-cc72-9e9914662b15"
      },
      "source": [
        "# get input and output sizes\n",
        "input_dim = X_train.shape[1] # 784\n",
        "hidden_dim = 512\n",
        "output_dim = y_train.shape[1] # 10\n",
        "\n",
        "# Create Sequential model - this allows you to add layers one after the other to build your model\n",
        "model = Sequential()\n",
        "model.add(Dense(hidden_dim, input_dim=input_dim, activation='sigmoid'))\n",
        "model.add(Dense(output_dim, activation='softmax'))\n",
        "# Compile model\n",
        "optim = tf.keras.optimizers.SGD(lr=0.01)\n",
        "model.compile(optimizer=optim, loss='categorical_crossentropy', metrics=['accuracy'])"
      ],
      "execution_count": null,
      "outputs": [
        {
          "output_type": "stream",
          "name": "stderr",
          "text": [
            "/usr/local/lib/python3.7/dist-packages/keras/optimizer_v2/optimizer_v2.py:356: UserWarning: The `lr` argument is deprecated, use `learning_rate` instead.\n",
            "  \"The `lr` argument is deprecated, use `learning_rate` instead.\")\n"
          ]
        }
      ]
    },
    {
      "cell_type": "markdown",
      "metadata": {
        "id": "cEHSI-ThP6b9"
      },
      "source": [
        "## Train the model\n",
        "\n",
        "> **Note**: Be sure to rerun the previous cell before you train, otherwise previous weights will be kept - i.e. you would just train your model further."
      ]
    },
    {
      "cell_type": "code",
      "metadata": {
        "id": "ohXdyxH1P6b-",
        "colab": {
          "base_uri": "https://localhost:8080/"
        },
        "outputId": "6c2b670e-7135-42ca-b8cf-e3c86979419b"
      },
      "source": [
        "# settings\n",
        "batch_size = 32\n",
        "nb_epoch = 15\n",
        "\n",
        "# train the model and save training history\n",
        "history = model.fit(X_train, y_train,\n",
        "          batch_size=batch_size, \n",
        "          epochs=nb_epoch, \n",
        "          verbose=1, \n",
        "          validation_split= 1./6., # set 10K samples (out of 60K) aside for validation\n",
        ")\n",
        "\n",
        "# save model weights to file\n",
        "model.save_weights('mnist_multilayer_perceptron.h5')"
      ],
      "execution_count": null,
      "outputs": [
        {
          "output_type": "stream",
          "name": "stdout",
          "text": [
            "Epoch 1/15\n",
            "1563/1563 [==============================] - 9s 4ms/step - loss: 1.3988 - accuracy: 0.6944 - val_loss: 0.8566 - val_accuracy: 0.8253\n",
            "Epoch 2/15\n",
            "1563/1563 [==============================] - 6s 4ms/step - loss: 0.6853 - accuracy: 0.8473 - val_loss: 0.5743 - val_accuracy: 0.8629\n",
            "Epoch 3/15\n",
            "1563/1563 [==============================] - 6s 4ms/step - loss: 0.5194 - accuracy: 0.8706 - val_loss: 0.4783 - val_accuracy: 0.8760\n",
            "Epoch 4/15\n",
            "1563/1563 [==============================] - 6s 4ms/step - loss: 0.4497 - accuracy: 0.8815 - val_loss: 0.4288 - val_accuracy: 0.8814\n",
            "Epoch 5/15\n",
            "1563/1563 [==============================] - 6s 4ms/step - loss: 0.4112 - accuracy: 0.8881 - val_loss: 0.3995 - val_accuracy: 0.8891\n",
            "Epoch 6/15\n",
            "1563/1563 [==============================] - 6s 4ms/step - loss: 0.3866 - accuracy: 0.8928 - val_loss: 0.3788 - val_accuracy: 0.8917\n",
            "Epoch 7/15\n",
            "1563/1563 [==============================] - 6s 4ms/step - loss: 0.3694 - accuracy: 0.8968 - val_loss: 0.3672 - val_accuracy: 0.8943\n",
            "Epoch 8/15\n",
            "1563/1563 [==============================] - 6s 4ms/step - loss: 0.3564 - accuracy: 0.8987 - val_loss: 0.3542 - val_accuracy: 0.8969\n",
            "Epoch 9/15\n",
            "1563/1563 [==============================] - 6s 4ms/step - loss: 0.3462 - accuracy: 0.9015 - val_loss: 0.3459 - val_accuracy: 0.8988\n",
            "Epoch 10/15\n",
            "1563/1563 [==============================] - 6s 4ms/step - loss: 0.3379 - accuracy: 0.9034 - val_loss: 0.3413 - val_accuracy: 0.9005\n",
            "Epoch 11/15\n",
            "1563/1563 [==============================] - 7s 4ms/step - loss: 0.3310 - accuracy: 0.9064 - val_loss: 0.3325 - val_accuracy: 0.9047\n",
            "Epoch 12/15\n",
            "1563/1563 [==============================] - 7s 4ms/step - loss: 0.3253 - accuracy: 0.9075 - val_loss: 0.3285 - val_accuracy: 0.9032\n",
            "Epoch 13/15\n",
            "1563/1563 [==============================] - 7s 4ms/step - loss: 0.3201 - accuracy: 0.9086 - val_loss: 0.3235 - val_accuracy: 0.9066\n",
            "Epoch 14/15\n",
            "1563/1563 [==============================] - 7s 4ms/step - loss: 0.3156 - accuracy: 0.9094 - val_loss: 0.3220 - val_accuracy: 0.9045\n",
            "Epoch 15/15\n",
            "1563/1563 [==============================] - 6s 4ms/step - loss: 0.3117 - accuracy: 0.9100 - val_loss: 0.3190 - val_accuracy: 0.9081\n"
          ]
        }
      ]
    },
    {
      "cell_type": "markdown",
      "metadata": {
        "id": "sMJa1aowP6b-"
      },
      "source": [
        "## Plot training behaviour"
      ]
    },
    {
      "cell_type": "code",
      "metadata": {
        "id": "Tpt1DCANP6b-",
        "colab": {
          "base_uri": "https://localhost:8080/",
          "height": 334
        },
        "outputId": "a5632875-3873-4983-e8af-9506902353c9"
      },
      "source": [
        "# summarize history for loss and accuracy\n",
        "\n",
        "fig, (ax1, ax2) = plt.subplots(1, 2, figsize=(20,5))\n",
        "\n",
        "ax1.plot(history.history['loss'])\n",
        "ax1.plot(history.history['val_loss'])\n",
        "ax1.set_ylabel('loss')\n",
        "ax1.set_xlabel('epoch')\n",
        "ax1.legend(['training', 'validation'], loc='upper right')\n",
        "ax1.yaxis.grid()\n",
        "\n",
        "ax2.plot(history.history['accuracy'])\n",
        "ax2.plot(history.history['val_accuracy'])\n",
        "ax2.set_ylabel('accuracy')\n",
        "ax2.set_xlabel('epoch')\n",
        "ax2.legend(['training', 'validation'], loc='upper left')\n",
        "ax2.yaxis.grid()\n",
        "\n",
        "plt.show()"
      ],
      "execution_count": null,
      "outputs": [
        {
          "output_type": "display_data",
          "data": {
            "image/png": "[encoded data removed]",
            "text/plain": [
              "<Figure size 1440x360 with 2 Axes>"
            ]
          },
          "metadata": {
            "needs_background": "light"
          }
        }
      ]
    },
    {
      "cell_type": "markdown",
      "metadata": {
        "id": "9DF7i6jzP6b_"
      },
      "source": [
        "## Evaluate the model on the test set"
      ]
    },
    {
      "cell_type": "code",
      "metadata": {
        "id": "04sojJ19P6b_",
        "colab": {
          "base_uri": "https://localhost:8080/"
        },
        "outputId": "b7a7f550-3254-4463-b9e7-8f418338fb0f"
      },
      "source": [
        "# load model weights from file\n",
        "model.load_weights('mnist_multilayer_perceptron.h5')\n",
        "\n",
        "score = model.evaluate(X_test, y_test, verbose=0)\n",
        "print('Test loss:', score[0]) \n",
        "print('Test accuracy:', score[1])"
      ],
      "execution_count": null,
      "outputs": [
        {
          "output_type": "stream",
          "name": "stdout",
          "text": [
            "Test loss: 0.30163154006004333\n",
            "Test accuracy: 0.9143999814987183\n"
          ]
        }
      ]
    },
    {
      "cell_type": "markdown",
      "metadata": {
        "id": "Zf93z-oFP6b_"
      },
      "source": [
        "If you followed the instructions and did not haste to apply optimisations (the point here is to learn, not get the best model), you should have obtained a similar accuracy as in the previous tutorial. However, we now have a more complex model, we would like better performance ! (see below)"
      ]
    },
    {
      "cell_type": "markdown",
      "metadata": {
        "id": "vFwWEUtGP6b_"
      },
      "source": [
        "## Try the following\n",
        "\n",
        "1) Change the hidden layer activation from 'sigmoid' to 'relu' and retrain ! you should see a huge difference !\n",
        "\n",
        "2) Add more layers, one by one, and see what happens !\n",
        "\n",
        "3) Add the optimisations you've made with your Linear Regression model (e.g. momentum, adam optimizer, etc) - the improvements should accumulate\n",
        "\n",
        "4) Try training for more epochs\n",
        "\n",
        "5) Can you get to the point where the model overfits the training data ?\n",
        "\n",
        "6) Share your best results !"
      ]
    },
    {
      "cell_type": "markdown",
      "metadata": {
        "id": "Do9gRyKXP6cA"
      },
      "source": [
        "## Going further\n",
        "\n",
        "If you like what you've seen so far, here are some tips to go further:\n",
        "\n",
        "* try changing the dataset to something more difficult: CIFAR10, CIFAR100\n",
        "\n",
        "* read more about regularization techniques\n",
        "\n",
        "* try to get your model to overfit to the point where generalisation decreases\n",
        "\n",
        "There are so many resources available online in this field !"
      ]
    }
  ]
}